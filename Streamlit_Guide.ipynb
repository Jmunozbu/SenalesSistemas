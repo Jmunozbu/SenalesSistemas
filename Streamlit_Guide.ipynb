{
  "nbformat": 4,
  "nbformat_minor": 0,
  "metadata": {
    "colab": {
      "provenance": []
    },
    "kernelspec": {
      "name": "python3",
      "display_name": "Python 3"
    },
    "language_info": {
      "name": "python"
    }
  },
  "cells": [
    {
      "cell_type": "markdown",
      "source": [
        "# Guía Streamlit en Colab\n",
        "\n",
        "[Streamlit](https://streamlit.io/) es una librería destinada a crear y compartir aplicaciones o dashboards. Su objetivo es ser una herramienta fácil de usar que permita ejecutar scripts directamente y desplegarlos en un aplicativo web.\\\n",
        "Sin embargo, antes de ver su funcionamiento, debemos tener en cuenta que, si bien Streamlit permite correr el aplicativo, debemos de tener una manera de alojarlo y \"hacerlo visible\" a la red. Existen diferentes métodos que cumplen dicho objetivo, también dependiendo del nivel de madurez que se requiera, bien sea simplemente testeo o producción; una alternativa eficaz, rápida y que puede ser fácilmente escalable es [Ngrok](https://ngrok.com/)."
      ],
      "metadata": {
        "id": "mBRoMU1ZSVbC"
      }
    },
    {
      "cell_type": "markdown",
      "source": [
        "Ngrok es un servicio y aplicativo globalmente distribuido que asegura, acelera y protege las aplicaciones y servicios de red. En este caso, nos servirá para crear el tunel http que nos deje visualizar el dashboard corriendo con Streamlit desde el entorno del cuadernillo o script de Python.\\\n",
        "El servicio gratuito de Ngrok, tras crear la cuenta tiene la posibilidad de mantener un agente activo simultáneo, cuya configuración está dada por el token de autenticación único por usuario y túnel."
      ],
      "metadata": {
        "id": "2y5u0IEjUUlK"
      }
    },
    {
      "cell_type": "code",
      "execution_count": null,
      "metadata": {
        "id": "AS_pGOHuRBOe",
        "colab": {
          "base_uri": "https://localhost:8080/"
        },
        "outputId": "dd5d0e29-caa7-4cd9-9882-581ec6bbb731"
      },
      "outputs": [
        {
          "output_type": "stream",
          "name": "stdout",
          "text": [
            "\u001b[2K   \u001b[90m━━━━━━━━━━━━━━━━━━━━━━━━━━━━━━━━━━━━━━━━\u001b[0m \u001b[32m8.7/8.7 MB\u001b[0m \u001b[31m28.4 MB/s\u001b[0m eta \u001b[36m0:00:00\u001b[0m\n",
            "\u001b[2K   \u001b[90m━━━━━━━━━━━━━━━━━━━━━━━━━━━━━━━━━━━━━━━━\u001b[0m \u001b[32m207.3/207.3 kB\u001b[0m \u001b[31m12.3 MB/s\u001b[0m eta \u001b[36m0:00:00\u001b[0m\n",
            "\u001b[2K   \u001b[90m━━━━━━━━━━━━━━━━━━━━━━━━━━━━━━━━━━━━━━━━\u001b[0m \u001b[32m6.9/6.9 MB\u001b[0m \u001b[31m18.2 MB/s\u001b[0m eta \u001b[36m0:00:00\u001b[0m\n",
            "\u001b[2K   \u001b[90m━━━━━━━━━━━━━━━━━━━━━━━━━━━━━━━━━━━━━━━━\u001b[0m \u001b[32m83.0/83.0 kB\u001b[0m \u001b[31m4.5 MB/s\u001b[0m eta \u001b[36m0:00:00\u001b[0m\n",
            "\u001b[2K   \u001b[90m━━━━━━━━━━━━━━━━━━━━━━━━━━━━━━━━━━━━━━━━\u001b[0m \u001b[32m62.7/62.7 kB\u001b[0m \u001b[31m4.0 MB/s\u001b[0m eta \u001b[36m0:00:00\u001b[0m\n",
            "\u001b[?25hCollecting pyngrok\n",
            "  Downloading pyngrok-7.2.0-py3-none-any.whl.metadata (7.4 kB)\n",
            "Requirement already satisfied: PyYAML>=5.1 in /usr/local/lib/python3.10/dist-packages (from pyngrok) (6.0.1)\n",
            "Downloading pyngrok-7.2.0-py3-none-any.whl (22 kB)\n",
            "Installing collected packages: pyngrok\n",
            "Successfully installed pyngrok-7.2.0\n"
          ]
        }
      ],
      "source": [
        "!pip install streamlit -q\n",
        "!pip install pyngrok"
      ]
    },
    {
      "cell_type": "code",
      "source": [
        "!python3 -m pip install --force-reinstall https://github.com/yt-dlp/yt-dlp/archive/master.tar.gz\n",
        "!pip install soundfile"
      ],
      "metadata": {
        "id": "ilQwRjcv9azp"
      },
      "execution_count": null,
      "outputs": []
    },
    {
      "cell_type": "code",
      "source": [
        "\"\"\"\n",
        "%%writefile app.py\n",
        "import streamlit as st\n",
        "\n",
        "st.write('# Hello World ')\n",
        "st.write('## Run Streamlit on Colab with `pyngrok` ')\n",
        "\"\"\""
      ],
      "metadata": {
        "colab": {
          "base_uri": "https://localhost:8080/"
        },
        "id": "2TEZ67hwhKG2",
        "outputId": "121fe4b7-216e-4ae4-a4fb-ed087162a58b"
      },
      "execution_count": null,
      "outputs": [
        {
          "output_type": "stream",
          "name": "stdout",
          "text": [
            "Overwriting app.py\n"
          ]
        }
      ]
    },
    {
      "cell_type": "markdown",
      "source": [
        "Como al momento de correr el script con Streamlit se requiere del archivo .py donde se encuentre el código, utilizamos %%writefile para crearlo. Posteriormente hacemos toda la configuración de Ngrok con el token y demás datos de protocolo."
      ],
      "metadata": {
        "id": "Wmhs3tByoErw"
      }
    },
    {
      "cell_type": "code",
      "source": [
        "token = '2jkoybOVU1P69URUTrdHkZ9gzPe_7xRntA99LEVA6TiNKUsxi'"
      ],
      "metadata": {
        "id": "BFoInA_Fo7ut"
      },
      "execution_count": null,
      "outputs": []
    },
    {
      "cell_type": "code",
      "source": [
        "from pyngrok import ngrok\n",
        "\n",
        "# Set authentication token (unique per user)\n",
        "ngrok.set_auth_token(token)\n",
        "\n",
        "# Start Streamlit server on a specific port\n",
        "!nohup streamlit run detector.py --server.port 5011 &\n",
        "\n",
        "# Start ngrok tunnel to expose the Streamlit server\n",
        "ngrok_tunnel = ngrok.connect(addr='5011', proto='http', bind_tls=True)\n",
        "\n",
        "# Print the URL of the ngrok tunnel\n",
        "print(' * Tunnel URL:', ngrok_tunnel.public_url)"
      ],
      "metadata": {
        "colab": {
          "base_uri": "https://localhost:8080/"
        },
        "id": "Owu5b-ENhQuZ",
        "outputId": "2176c56d-8b21-4c0e-b246-8c96582ef661"
      },
      "execution_count": null,
      "outputs": [
        {
          "output_type": "stream",
          "name": "stdout",
          "text": [
            "nohup: appending output to 'nohup.out'\n",
            " * Tunnel URL: https://04d1-34-145-150-66.ngrok-free.app\n"
          ]
        }
      ]
    },
    {
      "cell_type": "code",
      "source": [
        "#exit(\"Stopping the execution\")"
      ],
      "metadata": {
        "id": "dWfjbJx96kP0"
      },
      "execution_count": null,
      "outputs": []
    },
    {
      "cell_type": "markdown",
      "source": [
        "## Cómo usar Streamlit\n",
        "\n",
        "Dado que lo que busca streamlit es ser lo más sencillo posible de usar, su funcionamiento es bastante simple. Las llamadas a las funciones de streamlit no son para nada complicadas y son fácilmente modificables para usarlas de la manera que necesite la aplicación."
      ],
      "metadata": {
        "id": "jfZLTaYmpTiM"
      }
    },
    {
      "cell_type": "markdown",
      "source": [
        "Tan pronto como se ejecuta el script, un servidor local de Streamlit se inicia con el cuadernillo. La aplicación es como un lienzo, donde se pueden dibujar gráficos, texto, widgets, tablas, etc.\n",
        "Streamlit dispone de distintos métodos o funciones que permiten hacerlo, como por ejemplo, st.text() que escribe texto sin formato en la aplicación, y st.line_chart() que dibuja un gráfico de líneas."
      ],
      "metadata": {
        "id": "nQC2dlJYpZWy"
      }
    },
    {
      "cell_type": "markdown",
      "source": [
        "La arquitectura de Streamlit permite escribir aplicaciones de la misma manera en que se escriben scripts en Python. Para esto, las aplicaciones de Streamlit tienen un flujo de datos único: cada vez que algo debe actualizarse en la pantalla, Streamlit vuelve a ejecutar todo el script de Python de principio a fin.\n",
        "\n",
        "Esto puede ocurrir en dos situaciones:\n",
        "\n",
        "- Cuando se modifica el código fuente de la aplicación.\n",
        "\n",
        "- Cuando un usuario interactúa con los widgets en la aplicación. Por ejemplo, al arrastrar un deslizador, ingresar texto en un cuadro de entrada o hacer clic en un botón.\n",
        "\n",
        "Veamos cómo funcionan algunas de estas opciones, tomando como base algunas funcionalidades del programa [youtube_detector](https://github.com/amalvarezme/SenalesSistemas/blob/master/3_SerieyTransformadaFourier/youtube_detector.ipynb)."
      ],
      "metadata": {
        "id": "_iB8IXOzsuBI"
      }
    },
    {
      "cell_type": "code",
      "source": [
        "import streamlit as st\n",
        "import pandas as pd\n",
        "import numpy as np\n",
        "import os\n",
        "import subprocess\n",
        "import soundfile as sf\n",
        "import matplotlib.pyplot as plt\n",
        "from sklearn.preprocessing import MinMaxScaler\n",
        "from sklearn.manifold import TSNE\n",
        "from pyngrok import ngrok\n",
        "import yt_dlp as youtube_dl\n",
        "import joblib"
      ],
      "metadata": {
        "id": "QCz26bdrt3YQ"
      },
      "execution_count": null,
      "outputs": []
    },
    {
      "cell_type": "markdown",
      "source": [
        "Ponemos un título a la aplicación y página."
      ],
      "metadata": {
        "id": "3rzTj3x-ukkq"
      }
    },
    {
      "cell_type": "code",
      "source": [
        "st.title(\"YouTube Audio Analysis and Classification\")"
      ],
      "metadata": {
        "id": "vEaip43VuYQo"
      },
      "execution_count": null,
      "outputs": []
    },
    {
      "cell_type": "markdown",
      "source": [
        "Podemos dejar la opción para que el usuario suba un archivo, en este caso con el formato específico .xlsx"
      ],
      "metadata": {
        "id": "eHK1hpx4uwFG"
      }
    },
    {
      "cell_type": "code",
      "source": [
        "uploaded_file = st.file_uploader(\"Upload your Excel file\", type=[\"xlsx\"])"
      ],
      "metadata": {
        "id": "2cbSzlm6uu40"
      },
      "execution_count": null,
      "outputs": []
    },
    {
      "cell_type": "markdown",
      "source": [
        "Damos un mensaje de confirmación del archivo subido, y lo leemos con pandas."
      ],
      "metadata": {
        "id": "SZbIJN6pwtc4"
      }
    },
    {
      "cell_type": "code",
      "source": [
        "if uploaded_file:\n",
        "    df = pd.read_excel(uploaded_file)\n",
        "    st.write(\"Uploaded data:\", df)"
      ],
      "metadata": {
        "id": "A4_NrK-awys4"
      },
      "execution_count": null,
      "outputs": []
    },
    {
      "cell_type": "markdown",
      "source": [
        "Para el momento en el que queramos identificar una canción, podemos poner la opción de que el usuario introduza el link de esa canción."
      ],
      "metadata": {
        "id": "yxH7VTb8xMb0"
      }
    },
    {
      "cell_type": "code",
      "source": [
        "custom_url = st.text_input(\"Enter a new YouTube URL to process:\", \"\")"
      ],
      "metadata": {
        "id": "WwqAWmrtxXCm"
      },
      "execution_count": null,
      "outputs": []
    },
    {
      "cell_type": "markdown",
      "source": [
        "### Procesamiento de Datos\n",
        "Ahora, una vez que se han introducido los datos, ocurre algo particular. La lista de canciones del archivo de excel van a utilizarse para entrenar un modelo sencillo que permita posteriormente hacer la clasificación. Como ya se mencionó antes, lo que hace streamlit es correr el script completo cada vez que haya un cambio. Para este caso en el que estamos entrenando un modelo, donde queremos que los resultados no varíen mucho, pero en especial cuyo costo computacional dependiendo del problema puede ser relativamente alto, existe una opción que nos permite guardar en caché elementos o partes (funciones) del script, que solo correrán una vez cuando se inicie y llame por primera vez, y no volverán a hacerlo a menos de que sea completamente necesario (han cambiado las condiciones o argumentos de la función)."
      ],
      "metadata": {
        "id": "hYcGd5UtyDvo"
      }
    },
    {
      "cell_type": "markdown",
      "source": [
        "Para evitar cálculos redundantes, Streamlit proporciona decoradores de caché como @st.cache_data y @st.cache_resource. Estos decoradores almacenan los resultados de cálculos costosos, los cuales pueden reutilizarse en diferentes ejecuciones de la aplicación.\n",
        "\n",
        "- st.cache_data es la forma recomendada para almacenar en caché cálculos que devuelven datos o un objeto de datos serializable (por ejemplo, str, int, float, DataFrame, dict, list). Crea una nueva copia de los datos en cada llamada a la función, lo que lo hace seguro contra *mutaciones y condiciones de carrera*.\n",
        "\n",
        "- st.cache_resource es la forma recomendada para almacenar en caché recursos globales como modelos de aprendizaje automático o conexiones a bases de datos. Usa st.cache_resource cuando tu función devuelve objetos no serializables que no quieres cargar múltiples veces. Devuelve el objeto en caché en sí, el cual se comparte entre todas las ejecuciones y sesiones sin copia ni duplicación. Si mutas un objeto que está en caché utilizando st.cache_resource, esa mutación existirá en todas las ejecuciones y sesiones."
      ],
      "metadata": {
        "id": "mEvGkvayzlY9"
      }
    },
    {
      "cell_type": "markdown",
      "source": [
        "Al agregar cálculos de larga duración a una aplicación, se puede usar st.progress() para mostrar el estado en tiempo real."
      ],
      "metadata": {
        "id": "9EnHQOws51HE"
      }
    },
    {
      "cell_type": "code",
      "source": [
        "@st.cache_data\n",
        "def download_ytvid_as_mp3(video_url,name):\n",
        "    #video_url = input(\"enter url of youtube video:\")\n",
        "    video_info = youtube_dl.YoutubeDL().extract_info(url = video_url,download=False)\n",
        "    filename = f\"{name}.mp3\"\n",
        "    options={\n",
        "        'format':'bestaudio/best',\n",
        "        'keepvideo':False,\n",
        "        'outtmpl':filename,\n",
        "    }\n",
        "\n",
        "    with youtube_dl.YoutubeDL(options) as ydl:\n",
        "        ydl.download([video_info['webpage_url']])\n",
        "\n",
        "    print(\"Download complete... {}\".format(filename))\n",
        "\n",
        "@st.cache_resource\n",
        "def load_and_process_audio_files(path='results/'):\n",
        "    # Function to train the model from the Excel file\n",
        "    pass"
      ],
      "metadata": {
        "id": "tFSBKWao0sxx"
      },
      "execution_count": null,
      "outputs": []
    },
    {
      "cell_type": "markdown",
      "source": [
        "También existen otros elementos algo más interactivos (widgets) para el usuario que pueden cumplir funciones importantes, como st.button(), st.slider() o st.selectbox(). Estos se tratan como si fueran simplemente variables."
      ],
      "metadata": {
        "id": "7KVeJHu51VjR"
      }
    },
    {
      "cell_type": "code",
      "source": [
        "if st.button(\"Download and Process Audio\"):\n",
        "    path = process_audio_from_link(df)\n",
        "    x_t, label, name_c, fs = load_and_process_audio_files(path)"
      ],
      "metadata": {
        "id": "gCWNEJEG11z-"
      },
      "execution_count": null,
      "outputs": []
    },
    {
      "cell_type": "code",
      "source": [
        "song_duration = st.slider('Playtime for the song')"
      ],
      "metadata": {
        "id": "uspdzDkO4SLV"
      },
      "execution_count": null,
      "outputs": []
    },
    {
      "cell_type": "markdown",
      "source": [
        "### Visualización de Datos\n",
        "Streamlit brinda cierta flexibilidad y opciones para visualizar datos, bien sea con funciones propias o su integración con pyplot."
      ],
      "metadata": {
        "id": "P-i3ORnP2IbX"
      }
    },
    {
      "cell_type": "code",
      "source": [
        "st.write(\"Time Domain Signals\")\n",
        "st.line_chart(x_t.mean(axis=-1)) # Gráfico en el tiempo"
      ],
      "metadata": {
        "id": "3JKxeEhI2YHI"
      },
      "execution_count": null,
      "outputs": []
    },
    {
      "cell_type": "code",
      "source": [
        "plt.plot(vf, abs(Xw).T)\n",
        "plt.xlabel('Frequency (Hz)')\n",
        "plt.ylabel('|X(f)|')\n",
        "st.pyplot(plt)"
      ],
      "metadata": {
        "id": "b7v7NMQc2l4E"
      },
      "execution_count": null,
      "outputs": []
    },
    {
      "cell_type": "markdown",
      "source": [
        "Streamlit en ocasiones recomienda usar st.write() gracias a su funcionalidad \"Magic\". Podemos pasarle casi cualquier cosa a st.write() y automáticamente encontrará la mejor manera de representar esos datos (texto, datos, figuras, etc). Sin embargo, para un mayor control, pueden usarse los métodos mencionados antes."
      ],
      "metadata": {
        "id": "f1DQs3Ij201F"
      }
    },
    {
      "cell_type": "markdown",
      "source": [
        "### Presentación del dashboard\n",
        "\n",
        "Streamlit facilita la organización de los widgets en un panel lateral izquierdo con st.sidebar(). Cada elemento que se pasa a st.sidebar() queda fijado a la izquierda, permitiendo a los usuarios concentrarse en el contenido de la aplicación mientras siguen teniendo acceso a los controles de la interfaz."
      ],
      "metadata": {
        "id": "PCN9Hw_c34A5"
      }
    },
    {
      "cell_type": "code",
      "source": [
        "# Add a selectbox to the sidebar:\n",
        "add_selectbox = st.sidebar.selectbox(\n",
        "    'How would you like to be contacted?',\n",
        "    ('Email', 'Home phone', 'Mobile phone')\n",
        ")"
      ],
      "metadata": {
        "id": "-KXaIkEG5Lsi"
      },
      "execution_count": null,
      "outputs": []
    },
    {
      "cell_type": "markdown",
      "source": [
        "Más allá del panel lateral, Streamlit ofrece varias otras formas de controlar la disposición de tu aplicación. st.columns() permite colocar widgets uno al lado del otro, y st.expander() permite ahorrar espacio al ocultar contenido extenso."
      ],
      "metadata": {
        "id": "ocFHAVk15nCI"
      }
    },
    {
      "cell_type": "markdown",
      "source": [
        "A medida que las aplicaciones crecen, resulta útil organizarlas en múltiples páginas. Esto facilita la gestión de la aplicación y la navegación como usuario. Streamlit ofrece una forma sencilla de crear aplicaciones multipágina.\n",
        "- En la carpeta donde está el script principal, se crea una nueva carpeta para las páginas [pages].\n",
        "- Se añaden nuevos archivos .py en esta carpeta para añadir más páginas a la app.\n",
        "- Se corre sl script principal de la misma manera."
      ],
      "metadata": {
        "id": "Zxx09CKO76tt"
      }
    },
    {
      "cell_type": "markdown",
      "source": [
        "A continuación se muestra una app básica con algunas de las funcionalidades presentadas, para visualizarlas en la app."
      ],
      "metadata": {
        "id": "ahTQR5Iz6S1I"
      }
    },
    {
      "cell_type": "code",
      "source": [
        "%%writefile detector.py\n",
        "\n",
        "import streamlit as st\n",
        "import pandas as pd\n",
        "import numpy as np\n",
        "import os\n",
        "import subprocess\n",
        "import soundfile as sf\n",
        "import matplotlib.pyplot as plt\n",
        "from sklearn.preprocessing import MinMaxScaler\n",
        "from sklearn.manifold import TSNE\n",
        "from pyngrok import ngrok\n",
        "import yt_dlp as youtube_dl\n",
        "import joblib\n",
        "\n",
        "st.title(\"YouTube Audio Analysis and Classification\")\n",
        "uploaded_file = st.file_uploader(\"Upload your Excel file\", type=[\"xlsx\"])\n",
        "\n",
        "if uploaded_file:\n",
        "    df = pd.read_excel(uploaded_file)\n",
        "    st.write(\"Uploaded data:\", df)\n",
        "\n",
        "custom_url = st.text_input(\"Enter a new YouTube URL to process:\", \"\")\n",
        "\n",
        "song_duration = st.slider('Playtime for the song')\n",
        "\n",
        "add_selectbox = st.sidebar.selectbox(\n",
        "    'How many 5s pieces would you like to process?',\n",
        "    ('1', '2', '3')\n",
        ")"
      ],
      "metadata": {
        "colab": {
          "base_uri": "https://localhost:8080/"
        },
        "id": "XzbeDj4Gu7G0",
        "outputId": "33dac044-0a0c-46a5-cf1a-0fd604206da3"
      },
      "execution_count": null,
      "outputs": [
        {
          "output_type": "stream",
          "name": "stdout",
          "text": [
            "Writing detector.py\n"
          ]
        }
      ]
    },
    {
      "cell_type": "markdown",
      "source": [
        "Para mayor detalle en el uso de streamlit, podemos recurrir a su propia documentación, con ejemplos y otros detalles: https://docs.streamlit.io/get-started"
      ],
      "metadata": {
        "id": "5dTHyiBX35xM"
      }
    }
  ]
}